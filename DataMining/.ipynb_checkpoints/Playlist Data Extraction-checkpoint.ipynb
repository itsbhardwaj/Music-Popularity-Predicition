{
 "cells": [
  {
   "cell_type": "markdown",
   "metadata": {},
   "source": [
    "# Music Popularity Prediciton\n",
    "DJ Khaled boldly claimed to always know when a song will be a hit. We decided to further investigate by asking three key questions: \n",
    "1. Are there certain characteristics for hit songs \n",
    "2. what are the largest influencers on a song’s success \n",
    "3. and can old songs even predict the popularity of new songs? "
   ]
  },
  {
   "cell_type": "markdown",
   "metadata": {},
   "source": [
    "## Creating Dataset\n",
    "There are no relevant and updated dataset that exists to perform this analysis, hence we decided to form our our dataset by using a technique called Data Collection.\n",
    "For this project, we'll be using the data produced from one of the largest Music Streaming Website in the world called Spotify. We'll be using Spotify Web API to collect our raw data from the custom playlist of 1300 songs. \n",
    "But for demonstrative purpose we will be using a smaller playlist with 32 songs for now."
   ]
  },
  {
   "cell_type": "markdown",
   "metadata": {},
   "source": [
    "## DataFrames\n",
    "Our dataset will contain 3 data frames namely, Album Data, Artist Data, Song Data.\n",
    "In the following code I have demonstrated the creation of the Song DataFrame."
   ]
  },
  {
   "cell_type": "code",
   "execution_count": 1,
   "metadata": {},
   "outputs": [],
   "source": [
    "#Import Library\n",
    "import matplotlib.pyplot as plt\n",
    "import pandas as pd\n",
    "import seaborn as sns\n",
    "import spotipy\n",
    "from matplotlib import style\n",
    "from spotipy import util\n",
    "from spotipy.oauth2 import SpotifyClientCredentials \n",
    "loc='G:\\\\Projects\\\\Music-Popularity-Predicition\\\\DataMining'"
   ]
  },
  {
   "cell_type": "markdown",
   "metadata": {},
   "source": [
    "### Step 1 : Setting Up Connection\n",
    "Set Up Connection with Spotify Web API and give it access to my spotify account using a token generated automatically. We need this to use my 32 song playlist called 'Best Mixtape Ever'"
   ]
  },
  {
   "cell_type": "code",
   "execution_count": 6,
   "metadata": {},
   "outputs": [],
   "source": [
    "#Set up Connection \n",
    "client_id = 'a90f2a20aea54d5781d4cc7a38ab6694' #Need to create developer profile\n",
    "client_secret = 'b8810bc6ac1d4877b78c45a8654ebf18'\n",
    "username = 'f0uthgq19mkamht0gno58wkt0' #Store username\n",
    "scope = 'playlist-read-collaborative'\n",
    "redirect_uri='http://localhost/'\n",
    "client_credentials_manager = SpotifyClientCredentials(client_id=client_id, \n",
    "client_secret=client_secret)#Create manager for ease\n",
    "sp = spotipy.Spotify(client_credentials_manager=client_credentials_manager)\n",
    "token = util.prompt_for_user_token(username, scope, client_id, \n",
    "client_secret, redirect_uri)\n",
    "\n",
    "if token:\n",
    " sp = spotipy.Spotify(auth=token)\n",
    "else:\n",
    " print(\"Can't get token for\", username)"
   ]
  },
  {
   "cell_type": "code",
   "execution_count": 7,
   "metadata": {},
   "outputs": [],
   "source": [
    "#Connect to the 'the ultimate playlist'\n",
    "playlist_id = 'spotify:playlist:0vW19IAl4yjeg2IlfNuBFh'\n",
    "playlist = sp.user_playlist(username,playlist_id)"
   ]
  },
  {
   "cell_type": "markdown",
   "metadata": {},
   "source": [
    "### Step 2 : Collecting the Data"
   ]
  },
  {
   "cell_type": "code",
   "execution_count": 8,
   "metadata": {
    "scrolled": true
   },
   "outputs": [],
   "source": [
    "def user_playlist_tracks_full(spotify_connection, user, playlist_id=None, fields=None, market=None):\n",
    "    \"\"\" Get full details of the tracks of a playlist owned by a user.\n",
    "        https://developer.spotify.com/documentation/web-api/reference/playlists/get-playlists-tracks/\n",
    "\n",
    "        Parameters:\n",
    "            - user - the id of the user\n",
    "            - playlist_id - the id of the playlist\n",
    "            - fields - which fields to return\n",
    "            - market - an ISO 3166-1 alpha-2 country code.\n",
    "    \"\"\"\n",
    "\n",
    "    # first run through also retrieves total no of songs in library\n",
    "    response = spotify_connection.user_playlist_tracks(user, playlist_id, fields=fields, limit=100, market=market)\n",
    "    results = response[\"items\"]\n",
    "    \n",
    "\n",
    "    # subsequently runs until it hits the user-defined limit or has read all songs in the library\n",
    "    while len(results) < response[\"total\"]:\n",
    "        response = spotify_connection.user_playlist_tracks(user, playlist_id, fields=fields, limit=100, offset=len(results), market=market)\n",
    "        results.extend(response[\"items\"]) \n",
    "    return(results)\n"
   ]
  },
  {
   "cell_type": "markdown",
   "metadata": {},
   "source": [
    "# Artist Table"
   ]
  },
  {
   "cell_type": "code",
   "execution_count": 10,
   "metadata": {},
   "outputs": [],
   "source": [
    "results=user_playlist_tracks_full(sp,username,playlist_id)"
   ]
  },
  {
   "cell_type": "code",
   "execution_count": 11,
   "metadata": {},
   "outputs": [],
   "source": [
    "raw_playlist_data=[]\n",
    "for i in range(0,len(results)):\n",
    "    if results[i]['track']['id'] != None: # Removes  local tracks, if any\n",
    "        play=results[i]\n",
    "        raw_playlist_data.append(play['track'])"
   ]
  },
  {
   "cell_type": "code",
   "execution_count": 12,
   "metadata": {},
   "outputs": [],
   "source": [
    "artistData=[]\n",
    "for i in range(0,len(raw_playlist_data)):\n",
    "    artistData.append(raw_playlist_data[i]['artists'][0])"
   ]
  },
  {
   "cell_type": "code",
   "execution_count": 13,
   "metadata": {},
   "outputs": [],
   "source": [
    "#correct the format of external link\n",
    "for i in range(len(artistData)):\n",
    "    artistData[i]['url']=artistData[i]['external_urls']['spotify']\n",
    "    del artistData[i]['href']\n",
    "    del artistData[i]['external_urls']\n",
    "    del artistData[i]['type']"
   ]
  },
  {
   "cell_type": "code",
   "execution_count": 14,
   "metadata": {},
   "outputs": [
    {
     "data": {
      "text/plain": [
       "{'id': '5YGY8feqx7naU7z4HrwZM6',\n",
       " 'name': 'Miley Cyrus',\n",
       " 'uri': 'spotify:artist:5YGY8feqx7naU7z4HrwZM6',\n",
       " 'url': 'https://open.spotify.com/artist/5YGY8feqx7naU7z4HrwZM6'}"
      ]
     },
     "execution_count": 14,
     "metadata": {},
     "output_type": "execute_result"
    }
   ],
   "source": [
    "artistData[0]"
   ]
  },
  {
   "cell_type": "code",
   "execution_count": 15,
   "metadata": {},
   "outputs": [],
   "source": [
    "df=pd.DataFrame([artistData][0])"
   ]
  },
  {
   "cell_type": "code",
   "execution_count": 16,
   "metadata": {},
   "outputs": [
    {
     "data": {
      "text/plain": [
       "(1491, 4)"
      ]
     },
     "execution_count": 16,
     "metadata": {},
     "output_type": "execute_result"
    }
   ],
   "source": [
    "df.shape"
   ]
  },
  {
   "cell_type": "code",
   "execution_count": 17,
   "metadata": {},
   "outputs": [
    {
     "name": "stdout",
     "output_type": "stream",
     "text": [
      "1491\n",
      "430\n"
     ]
    }
   ],
   "source": [
    "print(len(df))\n",
    "final_df = df.drop_duplicates('id').sort_index()\n",
    "print(len(final_df))"
   ]
  },
  {
   "cell_type": "code",
   "execution_count": 18,
   "metadata": {},
   "outputs": [],
   "source": [
    "final_df.to_csv(loc+\"\\\\ArtistData.csv\")"
   ]
  },
  {
   "cell_type": "markdown",
   "metadata": {},
   "source": [
    "# Album Data"
   ]
  },
  {
   "cell_type": "code",
   "execution_count": 19,
   "metadata": {},
   "outputs": [],
   "source": [
    "albumData=[]\n",
    "for i in range(len(raw_playlist_data)):\n",
    "    albumData.append(raw_playlist_data[i]['album'])"
   ]
  },
  {
   "cell_type": "code",
   "execution_count": 20,
   "metadata": {},
   "outputs": [],
   "source": [
    "for i in range(len(albumData)):\n",
    "    albumData[i]['url']=albumData[i]['external_urls']['spotify']\n",
    "    albumData[i]['image']=albumData[i]['images'][0]['url']\n",
    "    del albumData[i]['artists']\n",
    "    del albumData[i]['available_markets']\n",
    "    del albumData[i]['external_urls']\n",
    "    del albumData[i]['href']\n",
    "    del albumData[i]['images']\n",
    "    del albumData[i]['release_date_precision']\n",
    "    del albumData[i]['type']"
   ]
  },
  {
   "cell_type": "code",
   "execution_count": 21,
   "metadata": {},
   "outputs": [
    {
     "data": {
      "text/plain": [
       "{'album_type': 'album',\n",
       " 'id': '0IuHVgAvbNDJnJepuSZ8Oz',\n",
       " 'name': 'The Time Of Our Lives (International Version)',\n",
       " 'release_date': '2009-01-01',\n",
       " 'total_tracks': 8,\n",
       " 'uri': 'spotify:album:0IuHVgAvbNDJnJepuSZ8Oz',\n",
       " 'url': 'https://open.spotify.com/album/0IuHVgAvbNDJnJepuSZ8Oz',\n",
       " 'image': 'https://i.scdn.co/image/871910879d96353fd909a24307625282cd5bbf69'}"
      ]
     },
     "execution_count": 21,
     "metadata": {},
     "output_type": "execute_result"
    }
   ],
   "source": [
    "albumData[0]"
   ]
  },
  {
   "cell_type": "code",
   "execution_count": 22,
   "metadata": {},
   "outputs": [],
   "source": [
    "df=pd.DataFrame([albumData][0])"
   ]
  },
  {
   "cell_type": "code",
   "execution_count": 23,
   "metadata": {},
   "outputs": [
    {
     "data": {
      "text/plain": [
       "(1491, 8)"
      ]
     },
     "execution_count": 23,
     "metadata": {},
     "output_type": "execute_result"
    }
   ],
   "source": [
    "df.shape"
   ]
  },
  {
   "cell_type": "code",
   "execution_count": 24,
   "metadata": {},
   "outputs": [
    {
     "name": "stdout",
     "output_type": "stream",
     "text": [
      "1196\n"
     ]
    }
   ],
   "source": [
    "final_df = df.drop_duplicates('id').sort_index()\n",
    "print(len(final_df))"
   ]
  },
  {
   "cell_type": "code",
   "execution_count": 25,
   "metadata": {},
   "outputs": [],
   "source": [
    "final_df.to_csv(loc+\"\\\\AlbumData.csv\")"
   ]
  },
  {
   "cell_type": "markdown",
   "metadata": {},
   "source": [
    "# Song Table"
   ]
  },
  {
   "cell_type": "code",
   "execution_count": 26,
   "metadata": {},
   "outputs": [
    {
     "data": {
      "text/plain": [
       "dict_keys(['album', 'artists', 'available_markets', 'disc_number', 'duration_ms', 'episode', 'explicit', 'external_ids', 'external_urls', 'href', 'id', 'is_local', 'name', 'popularity', 'preview_url', 'track', 'track_number', 'type', 'uri'])"
      ]
     },
     "execution_count": 26,
     "metadata": {},
     "output_type": "execute_result"
    }
   ],
   "source": [
    "raw_playlist_data[0].keys()"
   ]
  },
  {
   "cell_type": "code",
   "execution_count": 27,
   "metadata": {},
   "outputs": [],
   "source": [
    "songData=[]\n",
    "for i in range(len(raw_playlist_data)):\n",
    "    d={}\n",
    "    d['duration_ms']=raw_playlist_data[i]['duration_ms']\n",
    "    d['explict']=raw_playlist_data[i]['explicit']\n",
    "    d['external_urls']=raw_playlist_data[i]['external_urls']\n",
    "    d['id']=raw_playlist_data[i]['id']\n",
    "    d['name']=raw_playlist_data[i]['name']\n",
    "    d['popularity']=raw_playlist_data[i]['popularity']\n",
    "    d['uri']=raw_playlist_data[i]['uri']\n",
    "    songData.append(d)\n",
    "\n",
    "for i in range(len(songData)):\n",
    "    songData[i]['url']=songData[i]['external_urls']['spotify']   \n",
    "    del songData[i]['external_urls']"
   ]
  },
  {
   "cell_type": "code",
   "execution_count": 28,
   "metadata": {},
   "outputs": [
    {
     "data": {
      "text/plain": [
       "{'duration_ms': 202066,\n",
       " 'explict': False,\n",
       " 'id': '3E7dfMvvCLUddWissuqMwr',\n",
       " 'name': 'Party In The U.S.A.',\n",
       " 'popularity': 80,\n",
       " 'uri': 'spotify:track:3E7dfMvvCLUddWissuqMwr',\n",
       " 'url': 'https://open.spotify.com/track/3E7dfMvvCLUddWissuqMwr'}"
      ]
     },
     "execution_count": 28,
     "metadata": {},
     "output_type": "execute_result"
    }
   ],
   "source": [
    "songData[0]"
   ]
  },
  {
   "cell_type": "markdown",
   "metadata": {},
   "source": [
    "## Audio Feature Extraction\n",
    "to extract audio features of a song, all we need is the uri of that song. uri is available in raw_playlist_data"
   ]
  },
  {
   "cell_type": "code",
   "execution_count": 29,
   "metadata": {},
   "outputs": [],
   "source": [
    "def audio_features(element):\n",
    "    #Add new key-values to store audio features\n",
    "    element['acousticness'] = []\n",
    "    element['danceability'] = []\n",
    "    element['energy'] = []\n",
    "    element['instrumentalness'] = []\n",
    "    element['liveness'] = []\n",
    "    element['loudness'] = []\n",
    "    element['speechiness'] = []\n",
    "    element['tempo'] = []\n",
    "    element['valence'] = []\n",
    "    #element['popularity'] = []\n",
    "    #create a track counter\n",
    "    \n",
    "    features = sp.audio_features(element['uri'])\n",
    "        \n",
    "    #Append to relevant key-value\n",
    "    element['acousticness'].append(features[0]['acousticness'])\n",
    "    element['danceability'].append(features[0]['danceability'])\n",
    "    element['energy'].append(features[0]['energy'])\n",
    "    element['instrumentalness'].append(features[0]['instrumentalness'])\n",
    "    element['liveness'].append(features[0]['liveness'])\n",
    "    element['loudness'].append(features[0]['loudness'])\n",
    "    element['speechiness'].append(features[0]['speechiness'])\n",
    "    element['tempo'].append(features[0]['tempo'])\n",
    "    element['valence'].append(features[0]['valence'])\n",
    "    #popularity is stored elsewhere\n",
    "    #pop = sp.track(i)\n",
    "    #element['popularity'].append(pop['popularity'])"
   ]
  },
  {
   "cell_type": "code",
   "execution_count": 30,
   "metadata": {},
   "outputs": [],
   "source": [
    "for i in songData:\n",
    "    audio_features(i)"
   ]
  },
  {
   "cell_type": "code",
   "execution_count": 31,
   "metadata": {},
   "outputs": [],
   "source": [
    "for i in range(len(songData)):\n",
    "    songData[i]['acousticness']=songData[i]['acousticness'][0]\n",
    "    songData[i]['danceability']=songData[i]['danceability'][0]\n",
    "    songData[i]['energy']=songData[i]['energy'][0]\n",
    "    songData[i]['instrumentalness']=songData[i]['instrumentalness'][0]\n",
    "    songData[i]['liveness']=songData[i]['liveness'][0]\n",
    "    songData[i]['loudness']=songData[i]['loudness'][0]\n",
    "    songData[i]['speechiness']=songData[i]['speechiness'][0]\n",
    "    songData[i]['tempo']=songData[i]['tempo'][0]\n",
    "    songData[i]['valence']=songData[i]['valence'][0]"
   ]
  },
  {
   "cell_type": "code",
   "execution_count": 32,
   "metadata": {},
   "outputs": [
    {
     "data": {
      "text/plain": [
       "{'duration_ms': 202066,\n",
       " 'explict': False,\n",
       " 'id': '3E7dfMvvCLUddWissuqMwr',\n",
       " 'name': 'Party In The U.S.A.',\n",
       " 'popularity': 80,\n",
       " 'uri': 'spotify:track:3E7dfMvvCLUddWissuqMwr',\n",
       " 'url': 'https://open.spotify.com/track/3E7dfMvvCLUddWissuqMwr',\n",
       " 'acousticness': 0.00112,\n",
       " 'danceability': 0.652,\n",
       " 'energy': 0.698,\n",
       " 'instrumentalness': 0.000115,\n",
       " 'liveness': 0.0886,\n",
       " 'loudness': -4.667,\n",
       " 'speechiness': 0.042,\n",
       " 'tempo': 96.021,\n",
       " 'valence': 0.47}"
      ]
     },
     "execution_count": 32,
     "metadata": {},
     "output_type": "execute_result"
    }
   ],
   "source": [
    "songData[0]"
   ]
  },
  {
   "cell_type": "code",
   "execution_count": 33,
   "metadata": {},
   "outputs": [],
   "source": [
    "df=pd.DataFrame([songData][0])"
   ]
  },
  {
   "cell_type": "code",
   "execution_count": 34,
   "metadata": {
    "scrolled": false
   },
   "outputs": [
    {
     "data": {
      "text/html": [
       "<div>\n",
       "<style scoped>\n",
       "    .dataframe tbody tr th:only-of-type {\n",
       "        vertical-align: middle;\n",
       "    }\n",
       "\n",
       "    .dataframe tbody tr th {\n",
       "        vertical-align: top;\n",
       "    }\n",
       "\n",
       "    .dataframe thead th {\n",
       "        text-align: right;\n",
       "    }\n",
       "</style>\n",
       "<table border=\"1\" class=\"dataframe\">\n",
       "  <thead>\n",
       "    <tr style=\"text-align: right;\">\n",
       "      <th></th>\n",
       "      <th>acousticness</th>\n",
       "      <th>danceability</th>\n",
       "      <th>duration_ms</th>\n",
       "      <th>energy</th>\n",
       "      <th>explict</th>\n",
       "      <th>id</th>\n",
       "      <th>instrumentalness</th>\n",
       "      <th>liveness</th>\n",
       "      <th>loudness</th>\n",
       "      <th>name</th>\n",
       "      <th>popularity</th>\n",
       "      <th>speechiness</th>\n",
       "      <th>tempo</th>\n",
       "      <th>uri</th>\n",
       "      <th>url</th>\n",
       "      <th>valence</th>\n",
       "    </tr>\n",
       "  </thead>\n",
       "  <tbody>\n",
       "    <tr>\n",
       "      <th>0</th>\n",
       "      <td>0.00112</td>\n",
       "      <td>0.652</td>\n",
       "      <td>202066</td>\n",
       "      <td>0.698</td>\n",
       "      <td>False</td>\n",
       "      <td>3E7dfMvvCLUddWissuqMwr</td>\n",
       "      <td>0.000115</td>\n",
       "      <td>0.0886</td>\n",
       "      <td>-4.667</td>\n",
       "      <td>Party In The U.S.A.</td>\n",
       "      <td>80</td>\n",
       "      <td>0.0420</td>\n",
       "      <td>96.021</td>\n",
       "      <td>spotify:track:3E7dfMvvCLUddWissuqMwr</td>\n",
       "      <td>https://open.spotify.com/track/3E7dfMvvCLUddWi...</td>\n",
       "      <td>0.470</td>\n",
       "    </tr>\n",
       "    <tr>\n",
       "      <th>1</th>\n",
       "      <td>0.38000</td>\n",
       "      <td>0.866</td>\n",
       "      <td>199440</td>\n",
       "      <td>0.813</td>\n",
       "      <td>False</td>\n",
       "      <td>7JJmb5XwzOO8jgpou264Ml</td>\n",
       "      <td>0.000000</td>\n",
       "      <td>0.0779</td>\n",
       "      <td>-4.063</td>\n",
       "      <td>There's Nothing Holdin' Me Back</td>\n",
       "      <td>84</td>\n",
       "      <td>0.0554</td>\n",
       "      <td>121.998</td>\n",
       "      <td>spotify:track:7JJmb5XwzOO8jgpou264Ml</td>\n",
       "      <td>https://open.spotify.com/track/7JJmb5XwzOO8jgp...</td>\n",
       "      <td>0.969</td>\n",
       "    </tr>\n",
       "    <tr>\n",
       "      <th>2</th>\n",
       "      <td>0.19200</td>\n",
       "      <td>0.695</td>\n",
       "      <td>215280</td>\n",
       "      <td>0.762</td>\n",
       "      <td>False</td>\n",
       "      <td>51MMC5DogGZAnHil5HQAXg</td>\n",
       "      <td>0.002440</td>\n",
       "      <td>0.0863</td>\n",
       "      <td>-3.497</td>\n",
       "      <td>Circles</td>\n",
       "      <td>81</td>\n",
       "      <td>0.0395</td>\n",
       "      <td>120.042</td>\n",
       "      <td>spotify:track:51MMC5DogGZAnHil5HQAXg</td>\n",
       "      <td>https://open.spotify.com/track/51MMC5DogGZAnHi...</td>\n",
       "      <td>0.553</td>\n",
       "    </tr>\n",
       "    <tr>\n",
       "      <th>3</th>\n",
       "      <td>0.75100</td>\n",
       "      <td>0.501</td>\n",
       "      <td>182160</td>\n",
       "      <td>0.405</td>\n",
       "      <td>False</td>\n",
       "      <td>2TIlqbIneP0ZY1O0EzYLlc</td>\n",
       "      <td>0.000000</td>\n",
       "      <td>0.1050</td>\n",
       "      <td>-5.679</td>\n",
       "      <td>Someone You Loved</td>\n",
       "      <td>88</td>\n",
       "      <td>0.0319</td>\n",
       "      <td>109.891</td>\n",
       "      <td>spotify:track:2TIlqbIneP0ZY1O0EzYLlc</td>\n",
       "      <td>https://open.spotify.com/track/2TIlqbIneP0ZY1O...</td>\n",
       "      <td>0.446</td>\n",
       "    </tr>\n",
       "    <tr>\n",
       "      <th>4</th>\n",
       "      <td>0.09060</td>\n",
       "      <td>0.499</td>\n",
       "      <td>229573</td>\n",
       "      <td>0.800</td>\n",
       "      <td>False</td>\n",
       "      <td>4Yq3XUNfWrAPWuB94qkC09</td>\n",
       "      <td>0.000000</td>\n",
       "      <td>0.1470</td>\n",
       "      <td>-2.665</td>\n",
       "      <td>Take What You Want (feat. Ozzy Osbourne &amp; Trav...</td>\n",
       "      <td>78</td>\n",
       "      <td>0.0502</td>\n",
       "      <td>139.919</td>\n",
       "      <td>spotify:track:4Yq3XUNfWrAPWuB94qkC09</td>\n",
       "      <td>https://open.spotify.com/track/4Yq3XUNfWrAPWuB...</td>\n",
       "      <td>0.272</td>\n",
       "    </tr>\n",
       "  </tbody>\n",
       "</table>\n",
       "</div>"
      ],
      "text/plain": [
       "   acousticness  danceability  duration_ms  energy  explict  \\\n",
       "0       0.00112         0.652       202066   0.698    False   \n",
       "1       0.38000         0.866       199440   0.813    False   \n",
       "2       0.19200         0.695       215280   0.762    False   \n",
       "3       0.75100         0.501       182160   0.405    False   \n",
       "4       0.09060         0.499       229573   0.800    False   \n",
       "\n",
       "                       id  instrumentalness  liveness  loudness  \\\n",
       "0  3E7dfMvvCLUddWissuqMwr          0.000115    0.0886    -4.667   \n",
       "1  7JJmb5XwzOO8jgpou264Ml          0.000000    0.0779    -4.063   \n",
       "2  51MMC5DogGZAnHil5HQAXg          0.002440    0.0863    -3.497   \n",
       "3  2TIlqbIneP0ZY1O0EzYLlc          0.000000    0.1050    -5.679   \n",
       "4  4Yq3XUNfWrAPWuB94qkC09          0.000000    0.1470    -2.665   \n",
       "\n",
       "                                                name  popularity  speechiness  \\\n",
       "0                                Party In The U.S.A.          80       0.0420   \n",
       "1                    There's Nothing Holdin' Me Back          84       0.0554   \n",
       "2                                            Circles          81       0.0395   \n",
       "3                                  Someone You Loved          88       0.0319   \n",
       "4  Take What You Want (feat. Ozzy Osbourne & Trav...          78       0.0502   \n",
       "\n",
       "     tempo                                   uri  \\\n",
       "0   96.021  spotify:track:3E7dfMvvCLUddWissuqMwr   \n",
       "1  121.998  spotify:track:7JJmb5XwzOO8jgpou264Ml   \n",
       "2  120.042  spotify:track:51MMC5DogGZAnHil5HQAXg   \n",
       "3  109.891  spotify:track:2TIlqbIneP0ZY1O0EzYLlc   \n",
       "4  139.919  spotify:track:4Yq3XUNfWrAPWuB94qkC09   \n",
       "\n",
       "                                                 url  valence  \n",
       "0  https://open.spotify.com/track/3E7dfMvvCLUddWi...    0.470  \n",
       "1  https://open.spotify.com/track/7JJmb5XwzOO8jgp...    0.969  \n",
       "2  https://open.spotify.com/track/51MMC5DogGZAnHi...    0.553  \n",
       "3  https://open.spotify.com/track/2TIlqbIneP0ZY1O...    0.446  \n",
       "4  https://open.spotify.com/track/4Yq3XUNfWrAPWuB...    0.272  "
      ]
     },
     "execution_count": 34,
     "metadata": {},
     "output_type": "execute_result"
    }
   ],
   "source": [
    "df.head()"
   ]
  },
  {
   "cell_type": "code",
   "execution_count": 35,
   "metadata": {},
   "outputs": [
    {
     "name": "stdout",
     "output_type": "stream",
     "text": [
      "1491\n",
      "1490\n"
     ]
    }
   ],
   "source": [
    "##just a small piece of code to remove duplicate elements from the table if any\n",
    "print(len(df))\n",
    "final_df = df.sort_values('popularity', ascending=False).drop_duplicates('id').sort_index()\n",
    "print(len(final_df))"
   ]
  },
  {
   "cell_type": "code",
   "execution_count": 36,
   "metadata": {},
   "outputs": [],
   "source": [
    "final_df.to_csv(loc+\"\\\\SongsData.csv\")"
   ]
  },
  {
   "cell_type": "code",
   "execution_count": null,
   "metadata": {},
   "outputs": [],
   "source": []
  }
 ],
 "metadata": {
  "kernelspec": {
   "display_name": "Python 3",
   "language": "python",
   "name": "python3"
  },
  "language_info": {
   "codemirror_mode": {
    "name": "ipython",
    "version": 3
   },
   "file_extension": ".py",
   "mimetype": "text/x-python",
   "name": "python",
   "nbconvert_exporter": "python",
   "pygments_lexer": "ipython3",
   "version": "3.7.3"
  }
 },
 "nbformat": 4,
 "nbformat_minor": 2
}
