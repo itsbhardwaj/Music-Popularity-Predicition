{
 "cells": [
  {
   "cell_type": "code",
   "execution_count": 223,
   "metadata": {},
   "outputs": [],
   "source": [
    "#Import Library\n",
    "import matplotlib.pyplot as plt\n",
    "import pandas as pd\n",
    "import seaborn as sns\n",
    "import spotipy\n",
    "from matplotlib import style\n",
    "from spotipy import util\n",
    "from spotipy.oauth2 import SpotifyClientCredentials \n",
    "loc='G:\\\\Projects\\\\MIR\\\\DataMining'"
   ]
  },
  {
   "cell_type": "code",
   "execution_count": 224,
   "metadata": {},
   "outputs": [],
   "source": [
    "#Set up Connection \n",
    "client_id = 'a90f2a20aea54d5781d4cc7a38ab6694' #Need to create developer profile\n",
    "client_secret = 'b8810bc6ac1d4877b78c45a8654ebf18'\n",
    "username = 'f0uthgq19mkamht0gno58wkt0' #Store username\n",
    "scope = 'playlist-read-collaborative'\n",
    "redirect_uri='http://localhost/'\n",
    "client_credentials_manager = SpotifyClientCredentials(client_id=client_id, \n",
    "client_secret=client_secret)#Create manager for ease\n",
    "sp = spotipy.Spotify(client_credentials_manager=client_credentials_manager)\n",
    "token = util.prompt_for_user_token(username, scope, client_id, \n",
    "client_secret, redirect_uri)\n",
    "\n",
    "if token:\n",
    " sp = spotipy.Spotify(auth=token)\n",
    "else:\n",
    " print(\"Can't get token for\", username)"
   ]
  },
  {
   "cell_type": "code",
   "execution_count": 225,
   "metadata": {},
   "outputs": [],
   "source": [
    "#Connect to the best playlist, like ever \n",
    "playlist_id = 'spotify:playlist:6X4iVRG9PAyNT7gRUAZEMb'\n",
    "playlist = sp.user_playlist(username,playlist_id)"
   ]
  },
  {
   "cell_type": "code",
   "execution_count": 226,
   "metadata": {},
   "outputs": [],
   "source": [
    "#Extract list of songs/tracks\n",
    "tracks = playlist[\"tracks\"];\n",
    "songs = tracks[\"items\"];"
   ]
  },
  {
   "cell_type": "code",
   "execution_count": 227,
   "metadata": {},
   "outputs": [],
   "source": [
    "track_ids = []\n",
    "track_names = []"
   ]
  },
  {
   "cell_type": "code",
   "execution_count": 228,
   "metadata": {},
   "outputs": [],
   "source": [
    "for i in range(0, len(songs)):\n",
    " if songs[i]['track']['id'] != None: # Removes  local tracks, if any\n",
    "    track_ids.append(songs[i]['track']['id'])\n",
    "    track_names.append(songs[i]['track']['name'])"
   ]
  },
  {
   "cell_type": "code",
   "execution_count": 229,
   "metadata": {
    "scrolled": true
   },
   "outputs": [],
   "source": [
    "def user_playlist_tracks_full(spotify_connection, user, playlist_id=None, fields=None, market=None):\n",
    "    \"\"\" Get full details of the tracks of a playlist owned by a user.\n",
    "        https://developer.spotify.com/documentation/web-api/reference/playlists/get-playlists-tracks/\n",
    "\n",
    "        Parameters:\n",
    "            - user - the id of the user\n",
    "            - playlist_id - the id of the playlist\n",
    "            - fields - which fields to return\n",
    "            - market - an ISO 3166-1 alpha-2 country code.\n",
    "    \"\"\"\n",
    "\n",
    "    # first run through also retrieves total no of songs in library\n",
    "    response = spotify_connection.user_playlist_tracks(user, playlist_id, fields=fields, limit=100, market=market)\n",
    "    results = response[\"items\"]\n",
    "    \n",
    "\n",
    "    # subsequently runs until it hits the user-defined limit or has read all songs in the library\n",
    "    while len(results) < response[\"total\"]:\n",
    "        response = spotify_connection.user_playlist_tracks(user, playlist_id, fields=fields, limit=100, offset=len(results), market=market)\n",
    "        results.extend(response[\"items\"]) \n",
    "    return(results)\n"
   ]
  },
  {
   "cell_type": "code",
   "execution_count": 230,
   "metadata": {},
   "outputs": [],
   "source": [
    "results=user_playlist_tracks_full(sp,username,playlist_id)\n"
   ]
  },
  {
   "cell_type": "code",
   "execution_count": 231,
   "metadata": {},
   "outputs": [
    {
     "data": {
      "text/plain": [
       "'spotify:track:3NZJlJemX3mzjf56MqC5ML'"
      ]
     },
     "execution_count": 231,
     "metadata": {},
     "output_type": "execute_result"
    }
   ],
   "source": [
    "results[0]['track']['uri']\n"
   ]
  },
  {
   "cell_type": "code",
   "execution_count": 232,
   "metadata": {},
   "outputs": [],
   "source": [
    "track_uri=[]\n",
    "raw_playlist_data=[]\n",
    "for i in range(0,len(results)):\n",
    "    if songs[i]['track']['id'] != None: # Removes  local tracks, if any\n",
    "        play=results[i]\n",
    "        raw_playlist_data.append(play['track'])\n",
    "        track_uri.append(play['track']['uri'])\n",
    "               "
   ]
  },
  {
   "cell_type": "code",
   "execution_count": 233,
   "metadata": {},
   "outputs": [],
   "source": [
    "for i in range(len(raw_playlist_data)):\n",
    "    del raw_playlist_data[i]['available_markets']\n",
    "    del raw_playlist_data[i]['disc_number']\n",
    "    del raw_playlist_data[i]['episode']\n",
    "    del raw_playlist_data[i]['external_ids']\n",
    "    del raw_playlist_data[i]['external_urls']\n",
    "    del raw_playlist_data[i]['is_local']\n",
    "    del raw_playlist_data[i]['preview_url']\n",
    "    del raw_playlist_data[i]['type']\n",
    "    del raw_playlist_data[i]['album']\n",
    "    del raw_playlist_data[i]['artists']"
   ]
  },
  {
   "cell_type": "code",
   "execution_count": 234,
   "metadata": {},
   "outputs": [
    {
     "data": {
      "text/plain": [
       "{'duration_ms': 303200,\n",
       " 'explicit': False,\n",
       " 'href': 'https://api.spotify.com/v1/tracks/7w5cxTEzp1rfV3KCy0Bd5N',\n",
       " 'id': '7w5cxTEzp1rfV3KCy0Bd5N',\n",
       " 'name': 'Home',\n",
       " 'popularity': 71,\n",
       " 'track': True,\n",
       " 'track_number': 6,\n",
       " 'uri': 'spotify:track:7w5cxTEzp1rfV3KCy0Bd5N'}"
      ]
     },
     "execution_count": 234,
     "metadata": {},
     "output_type": "execute_result"
    }
   ],
   "source": [
    "raw_playlist_data[1]"
   ]
  },
  {
   "cell_type": "code",
   "execution_count": 235,
   "metadata": {},
   "outputs": [],
   "source": [
    "def audio_features(element):\n",
    "    #Add new key-values to store audio features\n",
    "    element['acousticness'] = []\n",
    "    element['danceability'] = []\n",
    "    element['energy'] = []\n",
    "    element['instrumentalness'] = []\n",
    "    element['liveness'] = []\n",
    "    element['loudness'] = []\n",
    "    element['speechiness'] = []\n",
    "    element['tempo'] = []\n",
    "    element['valence'] = []\n",
    "    #element['popularity'] = []\n",
    "    #create a track counter\n",
    "    \n",
    "    features = sp.audio_features(element['uri'])\n",
    "        \n",
    "    #Append to relevant key-value\n",
    "    element['acousticness'].append(features[0]['acousticness'])\n",
    "    element['danceability'].append(features[0]['danceability'])\n",
    "    element['energy'].append(features[0]['energy'])\n",
    "    element['instrumentalness'].append(features[0]['instrumentalness'])\n",
    "    element['liveness'].append(features[0]['liveness'])\n",
    "    element['loudness'].append(features[0]['loudness'])\n",
    "    element['speechiness'].append(features[0]['speechiness'])\n",
    "    element['tempo'].append(features[0]['tempo'])\n",
    "    element['valence'].append(features[0]['valence'])\n",
    "    #popularity is stored elsewhere\n",
    "    #pop = sp.track(i)\n",
    "    #element['popularity'].append(pop['popularity'])"
   ]
  },
  {
   "cell_type": "code",
   "execution_count": 236,
   "metadata": {},
   "outputs": [],
   "source": [
    "for i in raw_playlist_data:\n",
    "    audio_features(i)"
   ]
  },
  {
   "cell_type": "code",
   "execution_count": 237,
   "metadata": {},
   "outputs": [
    {
     "data": {
      "text/plain": [
       "{'duration_ms': 278573,\n",
       " 'explicit': False,\n",
       " 'href': 'https://api.spotify.com/v1/tracks/3NZJlJemX3mzjf56MqC5ML',\n",
       " 'id': '3NZJlJemX3mzjf56MqC5ML',\n",
       " 'name': 'Forever',\n",
       " 'popularity': 72,\n",
       " 'track': True,\n",
       " 'track_number': 1,\n",
       " 'uri': 'spotify:track:3NZJlJemX3mzjf56MqC5ML',\n",
       " 'acousticness': [0.0368],\n",
       " 'danceability': [0.672],\n",
       " 'energy': [0.82],\n",
       " 'instrumentalness': [0.000188],\n",
       " 'liveness': [0.184],\n",
       " 'loudness': [-4.456],\n",
       " 'speechiness': [0.0459],\n",
       " 'tempo': [120.005],\n",
       " 'valence': [0.438]}"
      ]
     },
     "execution_count": 237,
     "metadata": {},
     "output_type": "execute_result"
    }
   ],
   "source": [
    "raw_playlist_data[0]"
   ]
  },
  {
   "cell_type": "code",
   "execution_count": 243,
   "metadata": {},
   "outputs": [
    {
     "data": {
      "text/plain": [
       "list"
      ]
     },
     "execution_count": 243,
     "metadata": {},
     "output_type": "execute_result"
    }
   ],
   "source": [
    "type(raw_playlist_data[0]['acousticness'])"
   ]
  },
  {
   "cell_type": "code",
   "execution_count": 239,
   "metadata": {},
   "outputs": [],
   "source": [
    "df=pd.DataFrame([raw_playlist_data][0])"
   ]
  },
  {
   "cell_type": "code",
   "execution_count": 240,
   "metadata": {},
   "outputs": [
    {
     "name": "stdout",
     "output_type": "stream",
     "text": [
      "32\n",
      "32\n"
     ]
    }
   ],
   "source": [
    "print(len(df))\n",
    "final_df = df.sort_values('popularity', ascending=False).drop_duplicates('name').sort_index()\n",
    "print(len(final_df))"
   ]
  },
  {
   "cell_type": "code",
   "execution_count": 241,
   "metadata": {},
   "outputs": [],
   "source": [
    "final_df.to_csv(loc+\"\\\\Songs.csv\")"
   ]
  }
 ],
 "metadata": {
  "kernelspec": {
   "display_name": "Python 3",
   "language": "python",
   "name": "python3"
  },
  "language_info": {
   "codemirror_mode": {
    "name": "ipython",
    "version": 3
   },
   "file_extension": ".py",
   "mimetype": "text/x-python",
   "name": "python",
   "nbconvert_exporter": "python",
   "pygments_lexer": "ipython3",
   "version": "3.7.3"
  }
 },
 "nbformat": 4,
 "nbformat_minor": 2
}
